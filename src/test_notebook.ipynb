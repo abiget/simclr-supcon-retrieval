{
 "cells": [
  {
   "cell_type": "code",
   "execution_count": 2,
   "id": "a956793e",
   "metadata": {},
   "outputs": [],
   "source": [
    "import os"
   ]
  },
  {
   "cell_type": "code",
   "execution_count": null,
   "id": "b36b7383",
   "metadata": {},
   "outputs": [],
   "source": [
    "def move_images_to_test(data_dir, num_images=3):\n",
    "    train_dir = os.path.join(data_dir, 'train')\n",
    "    test_gallery_dir = os.path.join(data_dir, 'test', 'gallery')\n",
    "\n",
    "    if not os.path.exists(test_gallery_dir):\n",
    "        os.makedirs(test_gallery_dir)\n",
    "\n",
    "    for subdir in os.listdir(train_dir):\n",
    "        subdir_path = os.path.join(train_dir, subdir)\n",
    "        if os.path.isdir(subdir_path):\n",
    "            images = [f for f in os.listdir(subdir_path) if f.endswith(('.jpg', '.png'))]\n",
    "            selected_images = images[:num_images]  # Select the first num_images\n",
    "\n",
    "            for image in selected_images:\n",
    "                src_image_path = os.path.join(subdir_path, image)\n",
    "                dst_image_path = os.path.join(test_gallery_dir, image)\n",
    "                if not os.path.exists(dst_image_path):  # Avoid overwriting\n",
    "                    # move those images\n",
    "                    os.rename(src_image_path, dst_image_path)\n",
    "                    print(f'Moved {src_image_path} to {dst_image_path}')\n",
    "\n",
    "move_images_to_test('../data', num_images=3)\n"
   ]
  }
 ],
 "metadata": {
  "kernelspec": {
   "display_name": ".venv",
   "language": "python",
   "name": "python3"
  },
  "language_info": {
   "codemirror_mode": {
    "name": "ipython",
    "version": 3
   },
   "file_extension": ".py",
   "mimetype": "text/x-python",
   "name": "python",
   "nbconvert_exporter": "python",
   "pygments_lexer": "ipython3",
   "version": "3.12.3"
  }
 },
 "nbformat": 4,
 "nbformat_minor": 5
}
