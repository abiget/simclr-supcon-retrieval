{
 "cells": [
  {
   "cell_type": "code",
   "execution_count": 2,
   "id": "7a7bdadb",
   "metadata": {},
   "outputs": [],
   "source": [
    "import os\n",
    "import json\n",
    "import matplotlib.pyplot as plt\n",
    "from utils.data_utils import split_and_organize_dataset, \\\n",
    "    split_test_data_into_query_and_gallery"
   ]
  },
  {
   "cell_type": "code",
   "execution_count": null,
   "id": "5821876b",
   "metadata": {},
   "outputs": [],
   "source": [
    "# if you have a dataset with lablled images you can create a train and test set\n",
    "# train_dir, test_dir = split_and_organize_dataset(\n",
    "#     src_dir=\"../data/test\",\n",
    "#     dest_dir=\"../data/test\",\n",
    "#     test_size=0.3\n",
    "# )\n",
    "\n",
    "# if you have a custom test set you can split it into query and gallery sets\n",
    "# query_dir, gallery_dir = split_test_data_into_query_and_gallery(\n",
    "#     data_dir=\"directory_with_test_images\",\n",
    "#     test_dir=\"../data/test\",\n",
    "#     query_ratio=0.3\n",
    "# )"
   ]
  },
  {
   "cell_type": "code",
   "execution_count": 4,
   "id": "9b06b1a2",
   "metadata": {},
   "outputs": [
    {
     "data": {
      "text/plain": [
       "[{'filename': '22150.jpg',\n",
       "  'label': 'buildings',\n",
       "  'samples': ['data/test/gallery/street/20365.jpg',\n",
       "   'data/test/gallery/sea/21730.jpg',\n",
       "   'data/test/gallery/buildings/21011.jpg',\n",
       "   'data/test/gallery/street/22329.jpg',\n",
       "   'data/test/gallery/forest/22763.jpg',\n",
       "   'data/test/gallery/street/22777.jpg',\n",
       "   'data/test/gallery/street/24161.jpg',\n",
       "   'data/test/gallery/forest/22955.jpg',\n",
       "   'data/test/gallery/forest/23380.jpg',\n",
       "   'data/test/gallery/glacier/20345.jpg']}]"
      ]
     },
     "execution_count": 4,
     "metadata": {},
     "output_type": "execute_result"
    }
   ],
   "source": [
    "with open('../results/submission.json') as f:\n",
    "    submission = json.load(f)\n",
    "submission[:1]"
   ]
  },
  {
   "cell_type": "code",
   "execution_count": null,
   "id": "a127c4d1",
   "metadata": {},
   "outputs": [],
   "source": [
    "def get_resulting_similar_images_query_in_gallery(submission):\n",
    "    \n",
    "    fig, axes = plt.subplots(len(submission[:30]), 11, figsize=(20, len(submission[:30])))\n",
    "    axes[0, 0].set_title('Query Image')\n",
    "    for i, item in enumerate(submission[:30]):\n",
    "        axes[i, 0].imshow(plt.imread(os.path.join(f'../data/test/query/{item['label']}', item['filename'])))\n",
    "        label = item['label']\n",
    "        # display it in the image boottom\n",
    "        axes[i, 0].set_title(f'Query: {label}')\n",
    "        axes[i, 0].axis('off')\n",
    "        for j, match in enumerate(item['samples']):\n",
    "            label = match.split('/')[-2]\n",
    "            axes[i, j + 1].set_title(f'Label: {label}')\n",
    "            axes[i, j + 1].imshow(plt.imread(os.path.join(f'../', match)))\n",
    "            # axes[0, j + 1].set_title(f'Match {j + 1}')\n",
    "            axes[i, j + 1].axis('off')\n",
    "    plt.tight_layout()\n",
    "    plt.show()\n",
    "\n",
    "get_resulting_similar_images_query_in_gallery(submission)"
   ]
  },
  {
   "cell_type": "code",
   "execution_count": 6,
   "id": "73e158d6",
   "metadata": {},
   "outputs": [
    {
     "name": "stdout",
     "output_type": "stream",
     "text": [
      "Top-5 Accuracy: 77.95%\n"
     ]
    }
   ],
   "source": [
    "# calculate top-k accuracy\n",
    "def calculate_top_k_accuracy(submission, top_k=5):\n",
    "    correct = 0\n",
    "    for item in submission:\n",
    "        if item['label'] in [match.split('/')[-2] for match in item['samples'][:top_k]]:\n",
    "            correct += 1\n",
    "    return correct / len(submission) * 100\n",
    "\n",
    "top_k_accuracy = calculate_top_k_accuracy(submission, top_k=5)\n",
    "print(f'Top-{5} Accuracy: {top_k_accuracy:.2f}%')"
   ]
  }
 ],
 "metadata": {
  "kernelspec": {
   "display_name": ".venv",
   "language": "python",
   "name": "python3"
  },
  "language_info": {
   "codemirror_mode": {
    "name": "ipython",
    "version": 3
   },
   "file_extension": ".py",
   "mimetype": "text/x-python",
   "name": "python",
   "nbconvert_exporter": "python",
   "pygments_lexer": "ipython3",
   "version": "3.12.3"
  }
 },
 "nbformat": 4,
 "nbformat_minor": 5
}
